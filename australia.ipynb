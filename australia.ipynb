{
 "cells": [
  {
   "cell_type": "code",
   "execution_count": 1,
   "metadata": {},
   "outputs": [],
   "source": [
    "import pygmt\n",
    "import numpy as np\n",
    "import pandas as pd\n",
    "import re\n",
    "import json\n",
    "import matplotlib.pyplot as plt\n",
    "from matplotlib import cm\n",
    "from matplotlib import colors as colours\n",
    "import os\n",
    "import requests\n",
    "import geopandas as gpd\n",
    "import shapely\n",
    "import json\n",
    "import cartopy.crs as ccrs\n",
    "\n",
    "from aussedthickrf.utils import get_australian_sedimentary_basins\n"
   ]
  },
  {
   "cell_type": "code",
   "execution_count": 2,
   "metadata": {},
   "outputs": [],
   "source": [
    "gdf = get_australian_sedimentary_basins()"
   ]
  },
  {
   "cell_type": "code",
   "execution_count": 3,
   "metadata": {},
   "outputs": [
    {
     "ename": "NameError",
     "evalue": "name 'gdf' is not defined",
     "output_type": "error",
     "traceback": [
      "\u001b[0;31m---------------------------------------------------------------------------\u001b[0m",
      "\u001b[0;31mNameError\u001b[0m                                 Traceback (most recent call last)",
      "Cell \u001b[0;32mIn[3], line 9\u001b[0m\n\u001b[1;32m      7\u001b[0m projection \u001b[39m=\u001b[39m \u001b[39mf\u001b[39m\u001b[39m\"\u001b[39m\u001b[39mM\u001b[39m\u001b[39m{\u001b[39;00m\u001b[39mint\u001b[39m(np\u001b[39m.\u001b[39mmean([ln_min,\u001b[39m \u001b[39mln_max]))\u001b[39m}\u001b[39;00m\u001b[39m/\u001b[39m\u001b[39m{\u001b[39;00m\u001b[39mint\u001b[39m(np\u001b[39m.\u001b[39mmean([lt_min,\u001b[39m \u001b[39mlt_max]))\u001b[39m}\u001b[39;00m\u001b[39m/\u001b[39m\u001b[39m{\u001b[39;00mfig_width\u001b[39m}\u001b[39;00m\u001b[39mc\u001b[39m\u001b[39m\"\u001b[39m\n\u001b[1;32m      8\u001b[0m fig\u001b[39m.\u001b[39mbasemap(region\u001b[39m=\u001b[39mregion, projection\u001b[39m=\u001b[39mprojection, frame\u001b[39m=\u001b[39m\u001b[39mTrue\u001b[39;00m)\n\u001b[0;32m----> 9\u001b[0m \u001b[39mfor\u001b[39;00m i, polygon \u001b[39min\u001b[39;00m gdf[::\u001b[39m-\u001b[39m\u001b[39m1\u001b[39m]\u001b[39m.\u001b[39miterrows():  \u001b[39m# [::-1] flips the df to plot the oldest first\u001b[39;00m\n\u001b[1;32m     10\u001b[0m     \u001b[39m# pygmt doesn't seem to have a nice way of colouring polygons\u001b[39;00m\n\u001b[1;32m     11\u001b[0m     \u001b[39m# from a GeoDataFrame using a column to map to colours\u001b[39;00m\n\u001b[1;32m     12\u001b[0m     \u001b[39m# so loop through and select the fill\u001b[39;00m\n\u001b[1;32m     13\u001b[0m     \u001b[39m# Have to wrap each polygon into its own GeoDataFrame\u001b[39;00m\n\u001b[1;32m     14\u001b[0m     df \u001b[39m=\u001b[39m gpd\u001b[39m.\u001b[39mGeoDataFrame([polygon])\n\u001b[1;32m     15\u001b[0m     fill \u001b[39m=\u001b[39m df[\u001b[39m\"\u001b[39m\u001b[39mfill\u001b[39m\u001b[39m\"\u001b[39m]\u001b[39m.\u001b[39miloc[\u001b[39m0\u001b[39m]\n",
      "\u001b[0;31mNameError\u001b[0m: name 'gdf' is not defined"
     ]
    }
   ],
   "source": [
    "fig = pygmt.Figure()\n",
    "fig_width = 15\n",
    "with fig.subplot(nrows=2, ncols=1, figsize=(f\"{fig_width}c\", f\"3c\")):\n",
    "    with fig.set_panel(0):\n",
    "        region=[112, 155, -46, -8]\n",
    "        ln_min, ln_max, lt_min, lt_max = region\n",
    "        projection = f\"M{int(np.mean([ln_min, ln_max]))}/{int(np.mean([lt_min, lt_max]))}/{fig_width}c\"\n",
    "        fig.basemap(region=region, projection=projection, frame=True)\n",
    "        for i, polygon in gdf[::-1].iterrows():  # [::-1] flips the df to plot the oldest first\n",
    "            # pygmt doesn't seem to have a nice way of colouring polygons\n",
    "            # from a GeoDataFrame using a column to map to colours\n",
    "            # so loop through and select the fill\n",
    "            # Have to wrap each polygon into its own GeoDataFrame\n",
    "            df = gpd.GeoDataFrame([polygon])\n",
    "            fill = df[\"fill\"].iloc[0]\n",
    "            fig.plot(data=df, region=region, projection=projection, fill=fill, transparency=25)\n",
    "        fig.coast(\n",
    "            region=region,\n",
    "            projection=projection,\n",
    "            shorelines=1,\n",
    "            resolution=\"i\",\n",
    "            water=\"#e6ffff\",\n",
    "            borders=\"2/1p,grey\",\n",
    "        )\n",
    "    \n",
    "    with fig.set_panel(1):\n",
    "        region = [0, fig_width, 0, 1]\n",
    "        projection = f\"X{fig_width}c/1c\"\n",
    "        fig.basemap(region=region, projection=projection, frame=[\"wsne\"])\n",
    "        max_age = max([v[\"hasBeginning\"] for v in periods.values()])\n",
    "\n",
    "        def _scale_age_to_bar_length(age):\n",
    "            return age / max_age * fig_width\n",
    "\n",
    "        for i, p in enumerate(periods.values()):\n",
    "            # fill = colours.to_hex(cmap(i))\n",
    "            fill = p[\"fill\"]\n",
    "            beginning = _scale_age_to_bar_length(p[\"hasBeginning\"])\n",
    "            end = _scale_age_to_bar_length(p[\"hasEnd\"])\n",
    "            fig.plot(x=beginning, y=0.5, style=f\"B1c+b{end}\", fill=fill, region=region, projection=projection)\n",
    "\n",
    "        font = \"10p,Helvetica\"\n",
    "        for k, e in eras.items():\n",
    "            beginning = _scale_age_to_bar_length(e[\"hasBeginning\"])\n",
    "            end = _scale_age_to_bar_length(e[\"hasEnd\"])\n",
    "            mid = (end + beginning) / 2\n",
    "            length = beginning - end\n",
    "            angle = 0\n",
    "            fig.plot(x=end, y=0.4, style=\"v0.3c+bt+et+a80\", direction=([angle], [length]), pen=\"1p\", region=region, projection=projection)\n",
    "            fig.text(x=mid, y=0.6, font=font, text=k, region=region, projection=projection)\n",
    "\n",
    "fig.show()"
   ]
  },
  {
   "cell_type": "code",
   "execution_count": 7,
   "metadata": {},
   "outputs": [],
   "source": [
    "delays = pd.read_csv(\"/Users/auggiemarignier/Documents/ANU/aus_sediment_thickness/AusSedThickRF/data/processed/20230421_140018/delays.txt\", names=(\"Network\", \"Station\", \"Longitude\", \"Latitude\", \"TPsb\"), sep=\"\\s+\")\n",
    "delays.set_index(\"Station\", inplace=True)\n",
    "points = [shapely.Point([st[\"Longitude\"], st[\"Latitude\"]]) for _, st in delays.iterrows()]\n",
    "delays[\"geometry\"] = points\n",
    "delays = gpd.GeoDataFrame(delays)"
   ]
  },
  {
   "cell_type": "code",
   "execution_count": 10,
   "metadata": {},
   "outputs": [],
   "source": [
    "station_age = []\n",
    "for i, point in delays.iterrows():\n",
    "    contains = gdf.contains(point.geometry)\n",
    "    if contains.any():\n",
    "        basins = gdf[contains]\n",
    "        oldest = basins[\"period_age\"].idxmax()\n",
    "        station_age.append(basins.loc[oldest][\"period\"])\n",
    "    else:\n",
    "        station_age.append(None)\n",
    "delays[\"Period\"] = station_age"
   ]
  },
  {
   "cell_type": "code",
   "execution_count": 11,
   "metadata": {},
   "outputs": [
    {
     "data": {
      "text/html": [
       "<div>\n",
       "<style scoped>\n",
       "    .dataframe tbody tr th:only-of-type {\n",
       "        vertical-align: middle;\n",
       "    }\n",
       "\n",
       "    .dataframe tbody tr th {\n",
       "        vertical-align: top;\n",
       "    }\n",
       "\n",
       "    .dataframe thead th {\n",
       "        text-align: right;\n",
       "    }\n",
       "</style>\n",
       "<table border=\"1\" class=\"dataframe\">\n",
       "  <thead>\n",
       "    <tr style=\"text-align: right;\">\n",
       "      <th></th>\n",
       "      <th>Network</th>\n",
       "      <th>Longitude</th>\n",
       "      <th>Latitude</th>\n",
       "      <th>TPsb</th>\n",
       "      <th>geometry</th>\n",
       "      <th>Period</th>\n",
       "    </tr>\n",
       "    <tr>\n",
       "      <th>Station</th>\n",
       "      <th></th>\n",
       "      <th></th>\n",
       "      <th></th>\n",
       "      <th></th>\n",
       "      <th></th>\n",
       "      <th></th>\n",
       "    </tr>\n",
       "  </thead>\n",
       "  <tbody>\n",
       "    <tr>\n",
       "      <th>BM31</th>\n",
       "      <td>OA</td>\n",
       "      <td>129.993058</td>\n",
       "      <td>-22.995938</td>\n",
       "      <td>0.0</td>\n",
       "      <td>POINT (129.99306 -22.99594)</td>\n",
       "      <td>None</td>\n",
       "    </tr>\n",
       "    <tr>\n",
       "      <th>BN29</th>\n",
       "      <td>OA</td>\n",
       "      <td>130.496421</td>\n",
       "      <td>-22.006397</td>\n",
       "      <td>0.0</td>\n",
       "      <td>POINT (130.49642 -22.00640)</td>\n",
       "      <td>None</td>\n",
       "    </tr>\n",
       "    <tr>\n",
       "      <th>BO24</th>\n",
       "      <td>OA</td>\n",
       "      <td>130.997155</td>\n",
       "      <td>-19.507225</td>\n",
       "      <td>0.0</td>\n",
       "      <td>POINT (130.99715 -19.50722)</td>\n",
       "      <td>Cambrian</td>\n",
       "    </tr>\n",
       "    <tr>\n",
       "      <th>BV23</th>\n",
       "      <td>OA</td>\n",
       "      <td>134.479800</td>\n",
       "      <td>-19.018600</td>\n",
       "      <td>0.0</td>\n",
       "      <td>POINT (134.47980 -19.01860)</td>\n",
       "      <td>Precambrian</td>\n",
       "    </tr>\n",
       "    <tr>\n",
       "      <th>BV30</th>\n",
       "      <td>OA</td>\n",
       "      <td>134.462000</td>\n",
       "      <td>-22.494000</td>\n",
       "      <td>0.0</td>\n",
       "      <td>POINT (134.46200 -22.49400)</td>\n",
       "      <td>None</td>\n",
       "    </tr>\n",
       "  </tbody>\n",
       "</table>\n",
       "</div>"
      ],
      "text/plain": [
       "        Network   Longitude   Latitude  TPsb                     geometry  \\\n",
       "Station                                                                     \n",
       "BM31         OA  129.993058 -22.995938   0.0  POINT (129.99306 -22.99594)   \n",
       "BN29         OA  130.496421 -22.006397   0.0  POINT (130.49642 -22.00640)   \n",
       "BO24         OA  130.997155 -19.507225   0.0  POINT (130.99715 -19.50722)   \n",
       "BV23         OA  134.479800 -19.018600   0.0  POINT (134.47980 -19.01860)   \n",
       "BV30         OA  134.462000 -22.494000   0.0  POINT (134.46200 -22.49400)   \n",
       "\n",
       "              Period  \n",
       "Station               \n",
       "BM31            None  \n",
       "BN29            None  \n",
       "BO24        Cambrian  \n",
       "BV23     Precambrian  \n",
       "BV30            None  "
      ]
     },
     "execution_count": 11,
     "metadata": {},
     "output_type": "execute_result"
    }
   ],
   "source": [
    "delays.head()"
   ]
  }
 ],
 "metadata": {
  "kernelspec": {
   "display_name": "aussedthick",
   "language": "python",
   "name": "python3"
  },
  "language_info": {
   "codemirror_mode": {
    "name": "ipython",
    "version": 3
   },
   "file_extension": ".py",
   "mimetype": "text/x-python",
   "name": "python",
   "nbconvert_exporter": "python",
   "pygments_lexer": "ipython3",
   "version": "3.9.16"
  },
  "orig_nbformat": 4,
  "vscode": {
   "interpreter": {
    "hash": "33cf9b2113646daeacbc3aa25c3ca65d7527d0536a0ee924cfbe692ff6211923"
   }
  }
 },
 "nbformat": 4,
 "nbformat_minor": 2
}
