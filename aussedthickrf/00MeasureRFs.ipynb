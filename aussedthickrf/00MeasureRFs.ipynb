{
 "cells": [
  {
   "cell_type": "markdown",
   "metadata": {},
   "source": [
    "# Measuring Australian Receiver Functions"
   ]
  },
  {
   "cell_type": "markdown",
   "metadata": {},
   "source": [
    "Receiver functions are measured using the `hiperseis` package, which contains routines for downloading and processing waveforms on HPC systems.\n",
    "This notebook details the work flow but does not actually run anything.\n",
    "Example shell/job submission scripts are given for each stage."
   ]
  },
  {
   "cell_type": "markdown",
   "metadata": {},
   "source": [
    "# 1. Extracting Waveforms"
   ]
  },
  {
   "cell_type": "markdown",
   "metadata": {},
   "source": [
    "This stage uses `hiperseis/seismic/extract_event_traces.py` to download waveforms from the web.  The following bash script downloads waveforms for a given seismic network."
   ]
  },
  {
   "cell_type": "markdown",
   "metadata": {},
   "source": [
    "```bash\n",
    "#!/bin/bash\n",
    "\n",
    "ROOT= # path to directory containing AusSedThick repo\n",
    "\n",
    "# hiperseis is not currently properly installable, so needs to be added to PYTHONPATH\n",
    "export HIPERSEIS=$ROOT/AusSedThickRF/hiperseis\n",
    "export PYTHONPATH=$HIPERSEIS/:$PYTHONPATH\n",
    "\n",
    "# Location of waveform database\n",
    "WAVEFORM_DB='IRIS'\n",
    "\n",
    "# Path to a STATIONXML file with details of all the stations you need.\n",
    "# Can be created using obspy.\n",
    "INVENTORY_FILE=\n",
    "\n",
    "# Event selection criteria\n",
    "EPICENTRAL_MIN=30\n",
    "EPICENTRAL_MAX=95\n",
    "\n",
    "# Output files\n",
    "NET=$1\n",
    "OUTDIR=$ROOT/AusSedThickRF/data/rf_data/$NET-analysis\n",
    "mkdir -p $OUTDIR\n",
    "EVENT_CAT=$OUTDIR/${NET}_events.xml\n",
    "TRACES=$OUTDIR/${NET}_event_waveforms.h5\n",
    "\n",
    "# Run\n",
    "mpirun -n 8 python $HIPERSEIS/seismic/extract_event_traces.py \\\n",
    "    --waveform-database $WAVEFORM_DB \\\n",
    "    --inventory-file $INVENTORY_FILE \\\n",
    "    --event-catalog-file $EVENT_CAT \\\n",
    "    --event-trace-datafile $TRACES \\\n",
    "    --network-list $NET \\\n",
    "    --p-data \\\n",
    "    --distance-range $EPICENTRAL_MIN $EPICENTRAL_MAX \\\n",
    "    --resample-hz 50 \\\n",
    "    > $OUTDIR/extract_waveforms_${NET}.log\n",
    "```"
   ]
  },
  {
   "cell_type": "markdown",
   "metadata": {},
   "source": [
    "Below is the full list of options for `extract_event_traces.py`."
   ]
  },
  {
   "cell_type": "markdown",
   "metadata": {},
   "source": [
    "```\n",
    "Usage: extract_event_traces.py [OPTIONS]\n",
    "\n",
    "Options:\n",
    "  --inventory-file FILE           Optional path to input inventory file\n",
    "                                  corresponding to waveform source provided\n",
    "                                  through, --waveform-database. Note that this\n",
    "                                  parameter is required only when the waveform\n",
    "                                  source is not a definition file for a\n",
    "                                  FederatedASDFDataSet, in which case, the\n",
    "                                  relevant inventory is extracted internally.\n",
    "  --network-list TEXT             A space-separated list of networks (within\n",
    "                                  quotes) to process.  [default: *]\n",
    "  --station-list TEXT             A space-separated list of stations (within\n",
    "                                  quotes) to process.  [default: *]\n",
    "  --waveform-database TEXT        Location of waveform source database from\n",
    "                                  which to extract traces. May be a recognized\n",
    "                                  service provider from\n",
    "                                  obspy.clients.fdsn.header.URL_MAPPINGS (e.g.\n",
    "                                  \"ISC\"), an actual URL (e.g.\n",
    "                                  \"http://auspass.edu.au\") or a file path. If\n",
    "                                  detected as a URL, the obspy client\n",
    "                                  get_waveform function will be used to\n",
    "                                  retrieve waveforms from web service.\n",
    "                                  Otherwise, if detected as a valid file path,\n",
    "                                  then it must be the path to a definition\n",
    "                                  file for a FederatedASDFDataSet, e.g. \"/g/da\n",
    "                                  ta/ha3/Passive/SHARED_DATA/Index/asdf_files.\n",
    "                                  txt\".  [required]\n",
    "  --event-catalog-file FILE       Path to event catalog file, e.g.\n",
    "                                  \"catalog_7X_for_rf.xml\". If file already\n",
    "                                  exists, it will be loaded, otherwise it will\n",
    "                                  be created by querying the ISC web service.\n",
    "                                  Note that for traceability, start and end\n",
    "                                  times will be appended to file name.\n",
    "                                  [required]\n",
    "  --event-trace-datafile FILE     Path to output file, e.g.\n",
    "                                  \"7X_event_waveforms.h5\". Note that for\n",
    "                                  traceability, start and end datetimes will\n",
    "                                  be appended to file name.  [required]\n",
    "  --start-time TEXT               Start datetime in ISO 8601 format, e.g.\n",
    "                                  \"2009-06-16T03:42:00\". If empty, will be\n",
    "                                  inferred from the inventory file.\n",
    "  --end-time TEXT                 End datetime in ISO 8601 format, e.g.\n",
    "                                  \"2011-04-01T23:18:49\". If empty, will be\n",
    "                                  inferred from the inventory file.\n",
    "  --taup-model TEXT               Theoretical tau-p Earth model to use for\n",
    "                                  Trace stats computation. Other\n",
    "                                  possibilities, such as ak135, are documented\n",
    "                                  here: https://docs.obspy.org/packages/obspy.\n",
    "                                  taup.html  [default: iasp91]\n",
    "  --distance-range <FLOAT FLOAT>...\n",
    "                                  Range of teleseismic distances (in degrees)\n",
    "                                  to sample relative to the mean lat,lon\n",
    "                                  location  [default: 0, 180.0]\n",
    "  --magnitude-range <FLOAT FLOAT>...\n",
    "                                  Range of seismic event magnitudes to sample\n",
    "                                  from the event catalog for P/S arrivals.\n",
    "                                  [default: 5.5, 10.0]\n",
    "  --sw-magnitude-range <FLOAT FLOAT>...\n",
    "                                  Range of seismic event magnitudes to sample\n",
    "                                  from the event catalog for surface waves.\n",
    "                                  [default: 6.0, 10.0]\n",
    "  --catalog-only                  If set, only generate catalog file and exit.\n",
    "                                  Used for preparing input file on HPC systems\n",
    "                                  with no internet access.\n",
    "  --resample-hz FLOAT             Resampling frequency (default 10 Hz) for\n",
    "                                  output P/S traces  [default: 10]\n",
    "  --sw-resample-hz FLOAT          Resampling frequency (default 2 Hz) for\n",
    "                                  surface waves  [default: 2]\n",
    "  --p-data                        Extracts waveform data around P-arrival\n",
    "  --s-data                        Extracts waveform data around S-arrival\n",
    "  --sw-data                       Extracts waveform data around surface-wave\n",
    "                                  arrival\n",
    "  --dry-run                       Reports events available to each station, by\n",
    "                                  wave-type and exits without outputting any\n",
    "                                  data. Has no effect on --catalog-only mode.\n",
    "  --help                          Show this message and exit.\n",
    "  ```"
   ]
  },
  {
   "cell_type": "markdown",
   "metadata": {},
   "source": [
    "# 2. Measuring Receiver Functions"
   ]
  },
  {
   "cell_type": "markdown",
   "metadata": {},
   "source": [
    "This stage measures receiver functions from the waveforms previously measured.\n",
    "The main script is `hiperseis/seismic/receiver_rf/generate_rf.py`."
   ]
  },
  {
   "cell_type": "markdown",
   "metadata": {},
   "source": [
    "The configuration of the calculation is handled by a `config_rfs.json` file, an example of which is shown below."
   ]
  },
  {
   "cell_type": "markdown",
   "metadata": {},
   "source": [
    "```json\n",
    "{\n",
    "  \"filtering\": {\n",
    "    \"resample_rate\": 50.0,\n",
    "    \"taper_limit\": 0.05,\n",
    "    \"filter_band\": [0.1, 1.0]\n",
    "  },\n",
    "  \"processing\": {\n",
    "      \"rotation_type\": \"ZRT\",\n",
    "      \"deconv_domain\": \"iter\",\n",
    "      \"normalize\": true\n",
    "  }\n",
    "}\n",
    "```"
   ]
  },
  {
   "cell_type": "markdown",
   "metadata": {},
   "source": [
    "Full configuration options are:\n",
    "```json\n",
    "\"filtering\":  # Filtering settings\n",
    "{\n",
    "    \"resample_rate\": float # Resampling rate in Hz\n",
    "    \"taper_limit\": float   # Fraction of signal to taper at end, between 0 and 0.5\n",
    "    \"filter_band\": (float, float) # Filter pass band (Hz). Not required for freq-domain deconvolution.\n",
    "    \"channel_pattern\": # Ordered list of preferred channels, e.g. 'HH*,BH*',\n",
    "                        # where channel selection is ambiguous.\n",
    "    \"baz_range\": (float, float) or [(float, float), ...] # Discrete ranges of source back azimuth to use (degrees).\n",
    "        # Each value must be between 0 and 360. May be a pair or a list of pairs for multiple ranges.\n",
    "}\n",
    "\n",
    "\"processing\":  # RF processing settings\n",
    "{\n",
    "    \"custom_preproc\":\n",
    "    {\n",
    "    \"import\": 'import custom symbols',  # statement to import required symbols\n",
    "    \"func\": 'preproc functor'  # expression to get handle to custom preprocessing functor\n",
    "    \"args\": {}  # additional kwargs to pass to func\n",
    "    }\n",
    "    \"trim_start_time\": float # Trace trim start time in sec, relative to onset\n",
    "    \"trim_end_time\": float # Trace trim end time in sec, relative to onset\n",
    "    \"rotation_type\": str # Choice of ['zrt', 'lqt']. Rotational coordinate system\n",
    "                        # for aligning ZNE trace components with incident wave direction\n",
    "    \"deconv_domain\": str # Choice of ['time', 'freq', 'iter']. Whether to perform deconvolution\n",
    "                        # in time or freq domain, or iterative technique\n",
    "    \"gauss_width\": float # Gaussian freq domain filter width. Only required for freq-domain deconvolution\n",
    "    \"water_level\": float # Water-level for freq domain spectrum. Only required for freq-domain deconvolution\n",
    "    \"spiking\": float # Spiking factor (noise suppression), only required for time-domain deconvolution\n",
    "    \"normalize\": bool # Whether to normalize RF amplitude\n",
    "}\n",
    "\n",
    "\"correction\": # corrections to be applied to data for named stations prior to RF computation\n",
    "{\n",
    "    \"plot_dir\": str # path to folder where plots related to orientation corrections are to be saved\n",
    "    \"swap_ne\": list # list of NET.STA.LOC for which N and E channels are to be swapped, e.g [\"OA.BL27.\"],\n",
    "    \"rotate\": list # list of NET.STA.LOC that are to be rotated to maximize P-arrival energy on \\\n",
    "                    the primary RF component, e.g [\"OA.BL27.\"]\n",
    "    \"negate\": list # list of NET.STA.LOC.CHA that are to be negated, e.g [\"OA.BL27..HHZ\"]\n",
    "}\n",
    "```"
   ]
  },
  {
   "cell_type": "markdown",
   "metadata": {},
   "source": [
    "The following bash script measures the receiver functions and performs some initial quality checks."
   ]
  },
  {
   "cell_type": "markdown",
   "metadata": {},
   "source": [
    "```bash\n",
    "#!/bin/bash\n",
    "\n",
    "ROOT= # path to directory containing AusSedThick repo\n",
    "\n",
    "# hiperseis is not currently properly installable, so needs to be added to PYTHONPATH\n",
    "export HIPERSEIS=$ROOT/AusSedThickRF/hiperseis\n",
    "export PYTHONPATH=$HIPERSEIS/:$PYTHONPATH\n",
    "\n",
    "NET=$1\n",
    "\n",
    "DATADIR=$ROOT/data/rf_data/$NET-analysis # where the waveforms have been saved\n",
    "INFILE=$(ls $DATADIR/*_event_waveforms_*.h5 | head -1) # picks the latest waveform file\n",
    "NOW=$(date +'%Y%m%d_%H%M%S')\n",
    "OUTDIR=$DATADIR/$NOW\n",
    "CONFIG= # Path to config_rfs.json file\n",
    "\n",
    "mkdir -p $OUTDIR\n",
    "cp $CONFIG $OUTDIR\n",
    "\n",
    "mpirun -n 8 python $HIPERSEIS/seismic/receiver_fn/generate_rf.py \\\n",
    "    $INFILE \\\n",
    "    $OUTDIR/${NET}_rf.h5 \\\n",
    "    --config-file $CONFIG \\\n",
    "    > $OUTDIR/compute_rfs.log 2>&1\n",
    "\n",
    "python $HIPERSEIS/seismic/receiver_fn/rf_quality_filter.py \\\n",
    "    $OUTDIR/${NET}_rf.h5 \\\n",
    "    $OUTDIR/${NET}_rf_qc.h5 \\\n",
    "    --temp-dir $TMPDIR \\\n",
    "    --no-parallel \\\n",
    "    >> $OUTDIR/compute_rfs.log 2>&1\n",
    "```"
   ]
  },
  {
   "cell_type": "markdown",
   "metadata": {},
   "source": []
  }
 ],
 "metadata": {
  "language_info": {
   "name": "python"
  },
  "orig_nbformat": 4
 },
 "nbformat": 4,
 "nbformat_minor": 2
}
